{
  "nbformat": 4,
  "nbformat_minor": 0,
  "metadata": {
    "colab": {
      "provenance": [],
      "authorship_tag": "ABX9TyOhwIc0S6Js5ZMVY7PO5JHm",
      "include_colab_link": true
    },
    "kernelspec": {
      "name": "python3",
      "display_name": "Python 3"
    },
    "language_info": {
      "name": "python"
    }
  },
  "cells": [
    {
      "cell_type": "markdown",
      "metadata": {
        "id": "view-in-github",
        "colab_type": "text"
      },
      "source": [
        "<a href=\"https://colab.research.google.com/github/vivekmahajan122/Lan-Detection/blob/main/Roadlanedetection_.ipynb\" target=\"_parent\"><img src=\"https://colab.research.google.com/assets/colab-badge.svg\" alt=\"Open In Colab\"/></a>"
      ]
    },
    {
      "cell_type": "code",
      "source": [
        "import cv2\n",
        "import numpy as np\n",
        "import matplotlib.pyplot as plt  # Use for displaying the result in notebooks\n",
        "\n",
        "# Load the image\n",
        "img = cv2.imread('/content/Road.png')\n",
        "if img is None:\n",
        "    raise ValueError(\"Image not found or could not be opened\")\n",
        "\n",
        "# Convert to grayscale\n",
        "gray = cv2.cvtColor(img, cv2.COLOR_BGR2GRAY)\n",
        "\n",
        "# Apply Gaussian blur\n",
        "blur = cv2.GaussianBlur(gray, (5, 5), 0)\n",
        "\n",
        "# Detect edges using Canny\n",
        "edges = cv2.Canny(blur, 50, 150)\n",
        "\n",
        "# Create a mask\n",
        "mask = np.zeros_like(edges)\n",
        "height, width = mask.shape\n",
        "\n",
        "# Define a polygon for the region of interest (ROI)\n",
        "polygon = np.array([[\n",
        "    (0, height),\n",
        "    (width, height),\n",
        "    (width // 2, int(height * 0.6))  # Adjusting the ROI for better performance\n",
        "]])\n",
        "\n"
      ],
      "metadata": {
        "id": "QHAoJQB7UGIZ"
      },
      "execution_count": null,
      "outputs": []
    },
    {
      "cell_type": "code",
      "execution_count": null,
      "metadata": {
        "colab": {
          "base_uri": "https://localhost:8080/"
        },
        "id": "-lI9f19FT0eQ",
        "outputId": "b0fb8659-ecd8-45fc-e417-ab4d6ef25429"
      },
      "outputs": [
        {
          "output_type": "stream",
          "name": "stdout",
          "text": [
            "/content/OUTPUT.png\n"
          ]
        }
      ],
      "source": [
        "import cv2\n",
        "import numpy as np\n",
        "import matplotlib.pyplot as plt\n",
        "\n",
        "# Open webcam\n",
        "cap = cv2.VideoCapture(0)\n",
        "cap.set(3, 640)  # Set width\n",
        "cap.set(4, 480)  # Set height\n",
        "\n",
        "while True:\n",
        "    # Capture frame-by-frame\n",
        "    ret, frame = cap.read()\n",
        "\n",
        "    if not ret:\n",
        "        print('/content/OUTPUT.png')\n",
        "        break\n",
        "\n",
        "    # Convert the frame to grayscale\n",
        "    gray = cv2.cvtColor(frame, cv2.COLOR_BGR2GRAY)\n",
        "\n",
        "    # Apply Gaussian blur\n",
        "    blur = cv2.GaussianBlur(gray, (5, 5), 0)\n",
        "\n",
        "    # Detect edges using Canny\n",
        "    edges = cv2.Canny(blur, 50, 150)\n",
        "\n",
        "    # Create a mask\n",
        "    mask = np.zeros_like(edges)\n",
        "    height, width = mask.shape\n",
        "\n",
        "    # Define a polygon for the region of interest (ROI)\n",
        "    polygon = np.array([[\n",
        "        (0, height),\n",
        "        (width, height),\n",
        "        (width // 2, height // 2)\n",
        "    ]])\n",
        "\n",
        "    # Fill the mask with the polygon\n",
        "    cv2.fillPoly(mask, [polygon], 255)\n",
        "\n",
        "    # Apply the mask to the edges\n",
        "    masked_edges = cv2.bitwise_and(edges, mask)\n",
        "\n",
        "    # Use Hough Line Transform to detect lines\n",
        "    lines = cv2.HoughLinesP(masked_edges, rho=6, theta=np.pi/60, threshold=160,\n",
        "                            lines=np.array([]), minLineLength=40, maxLineGap=25)\n",
        "\n",
        "    # Create a blank image for drawing lines\n",
        "    line_img = np.zeros_like(frame)\n",
        "\n",
        "    # Draw the lines on the blank image\n",
        "    if lines is not None:\n",
        "        for line in lines:\n",
        "            x1, y1, x2, y2 = line[0]\n",
        "            cv2.line(line_img, (x1, y1), (x2, y2), (0, 0, 255), 10)\n",
        "\n",
        "    # Combine the original frame with the line image\n",
        "    result = cv2.addWeighted(frame, 0.8, line_img, 1.0, 0.0)\n",
        "\n",
        "    # Display the result\n",
        "    cv2.imshow('Result', result)\n",
        "\n",
        "    # Exit when 'q' key is pressed\n",
        "    if cv2.waitKey(1) & 0xFF == ord('q'):\n",
        "        break\n"
      ]
    }
  ]
}